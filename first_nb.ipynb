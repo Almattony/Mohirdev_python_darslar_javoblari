{
  "nbformat": 4,
  "nbformat_minor": 0,
  "metadata": {
    "colab": {
      "provenance": [],
      "authorship_tag": "ABX9TyMqgloaukc3SsMv9IINle7r",
      "include_colab_link": true
    },
    "kernelspec": {
      "name": "python3",
      "display_name": "Python 3"
    },
    "language_info": {
      "name": "python"
    }
  },
  "cells": [
    {
      "cell_type": "markdown",
      "metadata": {
        "id": "view-in-github",
        "colab_type": "text"
      },
      "source": [
        "<a href=\"https://colab.research.google.com/github/Almattony/Mohirdev_python_darslar_javoblari/blob/main/first_nb.ipynb\" target=\"_parent\"><img src=\"https://colab.research.google.com/assets/colab-badge.svg\" alt=\"Open In Colab\"/></a>"
      ]
    },
    {
      "cell_type": "code",
      "execution_count": null,
      "metadata": {
        "colab": {
          "base_uri": "https://localhost:8080/"
        },
        "id": "pHuEJkHVLP7E",
        "outputId": "8fcba440-0849-48cf-d26b-56efebfcf583"
      },
      "outputs": [
        {
          "output_type": "stream",
          "name": "stdout",
          "text": [
            "Salom!\n"
          ]
        }
      ],
      "source": [
        "print(\"Salom!\")"
      ]
    },
    {
      "cell_type": "markdown",
      "source": [],
      "metadata": {
        "id": "zshkbF0nMnz4"
      }
    },
    {
      "cell_type": "markdown",
      "source": [
        "# Tema\n",
        " - kirsiw[YOUTUBE QA O'TIW](https://youtube.com)\n",
        " - toliq bala"
      ],
      "metadata": {
        "id": "x1YtUvSNMqec"
      }
    },
    {
      "cell_type": "code",
      "source": [],
      "metadata": {
        "id": "-IpHEjmsMtBb"
      },
      "execution_count": null,
      "outputs": []
    }
  ]
}